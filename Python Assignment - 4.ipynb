{
 "cells": [
  {
   "cell_type": "markdown",
   "metadata": {},
   "source": [
    "#### 1. Write a Python Program(with class concepts) to find the area of the triangle using the below formula.\n",
    "area = (s*(s-a)*(s-b)*(s-c)) ** 0.5\n",
    "Function to take the length of the sides of triangle from user should be defined in the parent class and function to calculate the area should be defined in subclass.\")"
   ]
  },
  {
   "cell_type": "code",
   "execution_count": 30,
   "metadata": {},
   "outputs": [
    {
     "name": "stdout",
     "output_type": "stream",
     "text": [
      "Enter a side :  4\n",
      "Enter b side :  4\n",
      "Enter c side : 4\n",
      "Area of Triangle: 6.928\n"
     ]
    }
   ],
   "source": [
    "class Parent:\n",
    "    def __init__(self,a,b,c):\n",
    "        self.a = float(input(\"Enter a side :  \"))\n",
    "        self.b = float(input(\"Enter b side :  \"))\n",
    "        self.c = float(input(\"Enter c side : \"))\n",
    "\n",
    "class Triangle(Parent):\n",
    "    def __init__(self,a,b,c):\n",
    "        super().__init__(a,b,c)\n",
    "    \n",
    "    def area(self):    \n",
    "        s = (self.a + self.b + self.c) / 2\n",
    "        p =  float((s * (s - self.a) * (s - self.b) * (s - self.c))) ** 0.5\n",
    "        return round(p,3)\n",
    "     \n",
    "sides = Triangle(a,b,c)\n",
    "print(\"Area of Triangle:\",sides.area())"
   ]
  },
  {
   "cell_type": "markdown",
   "metadata": {},
   "source": [
    "#### 2. Write a function filter_long_words() that takes a list of words and an integer n and returns the list of words that are longer than n"
   ]
  },
  {
   "cell_type": "code",
   "execution_count": 35,
   "metadata": {},
   "outputs": [
    {
     "name": "stdout",
     "output_type": "stream",
     "text": [
      "['integer', 'list', 'list', 'returns', 'takes', 'that', 'words', 'words']\n"
     ]
    }
   ],
   "source": [
    "def filter_long_words(n, str):  \n",
    "    word_len = []  \n",
    "    word = str.split(\" \")  \n",
    "    for x in word:  \n",
    "        if len(x) > n:  \n",
    "            word_len.append(x)  \n",
    "    return sorted(word_len)           # it will sort the entire list alphabetically then return\n",
    "\n",
    "print(filter_long_words(3, \"that takes a list of words and an integer n and returns the list of words\"))  \n",
    "    "
   ]
  },
  {
   "cell_type": "markdown",
   "metadata": {},
   "source": [
    "##### 3.Write a Python Program using function concept that maps list of words into list of integers representing the length of corresponding words."
   ]
  },
  {
   "cell_type": "code",
   "execution_count": 42,
   "metadata": {},
   "outputs": [
    {
     "name": "stdout",
     "output_type": "stream",
     "text": [
      "[3, 3, 2, 1, 1, 4, 14]\n"
     ]
    }
   ],
   "source": [
    "def fun(lst):\n",
    "    return [len(i) for i in lst] #this fun takes a list of words and return len of corresponding word , using list comprehension  \n",
    "\n",
    "print(fun([\"abc\",\"def\",\"ab\",\"a\",\"a\",\"abcd\",\"skjdhkjasdkask\"]))\n",
    "    "
   ]
  },
  {
   "cell_type": "markdown",
   "metadata": {},
   "source": [
    "### 4. Write a Python function which takes a character and print True if its a Vowel , False otherwise "
   ]
  },
  {
   "cell_type": "code",
   "execution_count": 63,
   "metadata": {},
   "outputs": [
    {
     "name": "stdout",
     "output_type": "stream",
     "text": [
      "Please enter a char to check if its vowel or not: A\n",
      "True\n",
      "Please enter a char to check if its vowel or not: B\n",
      "False\n"
     ]
    }
   ],
   "source": [
    "def vowels(char):\n",
    "    vowel = [\"A\",\"E\",\"I\",\"O\",\"U\",\"a\",\"e\",\"i\",\"o\",\"u\"]\n",
    "    return char in vowel                            # either True if present else False\n",
    "\n",
    "print(vowels(input(\"Please enter a char to check if its vowel or not: \")))\n",
    "print(vowels(input(\"Please enter a char to check if its vowel or not: \")))"
   ]
  },
  {
   "cell_type": "code",
   "execution_count": null,
   "metadata": {},
   "outputs": [],
   "source": []
  }
 ],
 "metadata": {
  "kernelspec": {
   "display_name": "Python 3",
   "language": "python",
   "name": "python3"
  },
  "language_info": {
   "codemirror_mode": {
    "name": "ipython",
    "version": 3
   },
   "file_extension": ".py",
   "mimetype": "text/x-python",
   "name": "python",
   "nbconvert_exporter": "python",
   "pygments_lexer": "ipython3",
   "version": "3.8.3"
  }
 },
 "nbformat": 4,
 "nbformat_minor": 4
}
